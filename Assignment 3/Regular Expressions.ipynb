{
 "cells": [
  {
   "cell_type": "markdown",
   "id": "149b3759",
   "metadata": {},
   "source": [
    "#  Regular Expression"
   ]
  },
  {
   "cell_type": "markdown",
   "id": "6a425bb3",
   "metadata": {},
   "source": [
    "### Python Built-in Module for Regular Expressions\n",
    "Python has a built-in module to work with regular expressions called “re”. Some common methods from this module are-\n",
    "\n",
    "- re.match()\n",
    "- re.search()\n",
    "- re.findall()"
   ]
  },
  {
   "cell_type": "code",
   "execution_count": 8,
   "id": "c5aacaad",
   "metadata": {},
   "outputs": [
    {
     "name": "stdout",
     "output_type": "stream",
     "text": [
      "<re.Match object; span=(0, 3), match='The'>\n"
     ]
    }
   ],
   "source": [
    "### re.match(pattern, string)\n",
    "### The re.match function returns a match object on success and none on failure.\n",
    "\n",
    "import re\n",
    "\n",
    "#match a word at the beginning of a string\n",
    "\n",
    "result = re.match('The',r'The greatest glory in living lies not in never falling, but in rising every time we fall')\n",
    "print(result)"
   ]
  },
  {
   "cell_type": "code",
   "execution_count": 9,
   "id": "b59dab4f",
   "metadata": {},
   "outputs": [
    {
     "name": "stdout",
     "output_type": "stream",
     "text": [
      "The\n"
     ]
    }
   ],
   "source": [
    "print(result.group()) #returns the total matches"
   ]
  },
  {
   "cell_type": "code",
   "execution_count": 10,
   "id": "5a1739a2",
   "metadata": {},
   "outputs": [
    {
     "name": "stdout",
     "output_type": "stream",
     "text": [
      "None\n"
     ]
    }
   ],
   "source": [
    "result_2 = re.match('living',r'The greatest glory in living lies not in never falling, but in rising every time we fall')\n",
    "print(result_2)"
   ]
  },
  {
   "cell_type": "code",
   "execution_count": 11,
   "id": "62b1f538",
   "metadata": {},
   "outputs": [
    {
     "name": "stdout",
     "output_type": "stream",
     "text": [
      "fall\n"
     ]
    }
   ],
   "source": [
    "### re.search(pattern, string)\n",
    "### Matches the first occurrence of a pattern in the entire string(and not just at the beginning).\n",
    "\n",
    "result = re.search('fall',r'The greatest glory in living lies not in never falling, but in rising every time we fall')\n",
    "print(result.group())"
   ]
  },
  {
   "cell_type": "code",
   "execution_count": 12,
   "id": "e9c8e976",
   "metadata": {},
   "outputs": [
    {
     "name": "stdout",
     "output_type": "stream",
     "text": [
      "['fall', 'fall']\n"
     ]
    }
   ],
   "source": [
    "### re.findall(pattern, string)\n",
    "### It will return all the occurrences of the pattern from the string. I would recommend you to use re.findall() always, it can work like both re.search() and re.match().\n",
    "\n",
    "result = re.findall('fall',r'The greatest glory in living lies not in never falling, but in rising every time we fall')\n",
    "print(result)"
   ]
  },
  {
   "cell_type": "markdown",
   "id": "23cfe4e1",
   "metadata": {},
   "source": [
    "## Special Sequences in Regular Expressions"
   ]
  },
  {
   "cell_type": "code",
   "execution_count": 13,
   "id": "1e0c871d",
   "metadata": {},
   "outputs": [
    {
     "name": "stdout",
     "output_type": "stream",
     "text": [
      "['est']\n"
     ]
    }
   ],
   "source": [
    "## \\b\n",
    "## \\b returns a match where the specified pattern is at the beginning or at the end of a word.\n",
    "\n",
    "str = r'The greatest glory in living lies not in never falling, but in rising every time we fall'\n",
    "\n",
    "#Check if there is any word that ends with \"est\"\n",
    "\n",
    "x = re.findall(r\"est\\b\", str)\n",
    "print(x)"
   ]
  },
  {
   "cell_type": "code",
   "execution_count": 15,
   "id": "5922cef4",
   "metadata": {},
   "outputs": [
    {
     "name": "stdout",
     "output_type": "stream",
     "text": [
      "['8', '1', '4', '6']\n",
      "Yes, there is at least one match!\n"
     ]
    }
   ],
   "source": [
    "### \\d\n",
    "### \\d returns a match where the string contains digits (numbers from 0-9).\n",
    "\n",
    "str = \"Our solar system is made up of a star, the Sun 8 planets, 146 moons\"\n",
    "\n",
    "#Check if the string contains any digits (numbers from 0-9):\n",
    "\n",
    "x = re.findall(\"\\d\", str)\n",
    "print(x)\n",
    "\n",
    "if (x):\n",
    "    print(\"Yes, there is at least one match!\")\n",
    "else:\n",
    "    print(\"No match\")"
   ]
  },
  {
   "cell_type": "code",
   "execution_count": 17,
   "id": "19dcc4de",
   "metadata": {},
   "outputs": [
    {
     "name": "stdout",
     "output_type": "stream",
     "text": [
      "['8', '1', '4', '6']\n",
      "Yes, there is at least one match!\n"
     ]
    }
   ],
   "source": [
    "### \\d\n",
    "### \\d returns a match where the string contains digits (numbers from 0-9).\n",
    "\n",
    "str_ = \"Our solar system is made up of a star, the Sun 8 planets, 146 moons\"\n",
    "\n",
    "#Check if the string contains any digits (numbers from 0-9):\n",
    "\n",
    "x = re.findall(\"\\d\", str_)\n",
    "print(x)\n",
    "\n",
    "if (x):\n",
    "    print(\"Yes, there is at least one match!\")\n",
    "else:\n",
    "    print(\"No match\")"
   ]
  },
  {
   "cell_type": "code",
   "execution_count": 18,
   "id": "1e4dc7e6",
   "metadata": {},
   "outputs": [
    {
     "name": "stdout",
     "output_type": "stream",
     "text": [
      "['8', '146']\n",
      "Yes, there is at least one match!\n"
     ]
    }
   ],
   "source": [
    "# Check if the string contains any digits (numbers from 0-9):\n",
    "# adding '+' after '\\d' will continue to extract digits till encounters a space\n",
    "\n",
    "x = re.findall(\"\\d+\", str_)\n",
    "print(x)\n",
    "\n",
    "if (x):\n",
    "    print(\"Yes, there is at least one match!\")\n",
    "else:\n",
    "    print(\"No match\")\n",
    " "
   ]
  },
  {
   "cell_type": "code",
   "execution_count": 19,
   "id": "ff76f304",
   "metadata": {},
   "outputs": [
    {
     "name": "stdout",
     "output_type": "stream",
     "text": [
      "['O', 'u', 'r', ' ', 's', 'o', 'l', 'a', 'r', ' ', 's', 'y', 's', 't', 'e', 'm', ' ', 'i', 's', ' ', 'm', 'a', 'd', 'e', ' ', 'u', 'p', ' ', 'o', 'f', ' ', 'a', ' ', 's', 't', 'a', 'r', ',', ' ', 't', 'h', 'e', ' ', 'S', 'u', 'n', ' ', ' ', 'p', 'l', 'a', 'n', 'e', 't', 's', ',', ' ', ' ', 'm', 'o', 'o', 'n', 's']\n",
      "Yes, there is at least one match!\n"
     ]
    }
   ],
   "source": [
    "### \\D\n",
    "### \\D returns a match where the string does not contain any digit. It is basically the opposite of \\d.\n",
    "\n",
    "str_ = \"Our solar system is made up of a star, the Sun 8 planets, 146 moons\"\n",
    "\n",
    "#Check if the word character does not contain any digits (numbers from 0-9):\n",
    "\n",
    "x = re.findall(\"\\D\", str_)\n",
    "print(x)\n",
    "\n",
    "if (x):\n",
    "    print(\"Yes, there is at least one match!\")\n",
    "else:\n",
    "    print(\"No match\")"
   ]
  },
  {
   "cell_type": "code",
   "execution_count": 20,
   "id": "56461598",
   "metadata": {},
   "outputs": [
    {
     "name": "stdout",
     "output_type": "stream",
     "text": [
      "['Our solar system is made up of a star, the Sun ', ' planets, ', ' moons']\n",
      "Yes, there is at least one match!\n"
     ]
    }
   ],
   "source": [
    "#Check if the word does not contain any digits (numbers from 0-9):\n",
    "\n",
    "x = re.findall(\"\\D+\", str)\n",
    "print(x)\n",
    "\n",
    "if (x):\n",
    "    print(\"Yes, there is at least one match!\")\n",
    "else:\n",
    "    print(\"No match\")"
   ]
  },
  {
   "cell_type": "code",
   "execution_count": 21,
   "id": "a3e020a3",
   "metadata": {},
   "outputs": [
    {
     "name": "stdout",
     "output_type": "stream",
     "text": [
      "['Our', 'solar', 'system', 'is', 'made', 'up', 'of', 'a', 'star', 'the', 'Sun', '8', 'planets', '146', 'moons']\n",
      "Yes, there is at least one match!\n"
     ]
    }
   ],
   "source": [
    "### \\w\n",
    "### \\w helps in extraction of alphanumeric characters only (characters from a to Z, digits from 0-9, and the underscore _ character)\n",
    "\n",
    "str_ = \"Our solar system is made up of a star, the Sun 8 planets, 146 moons\"\n",
    "\n",
    "#returns a match at every word character (characters from a to Z, digits from 0-9, and the underscore _ character)\n",
    "\n",
    "x = re.findall(\"\\w+\",str_)\n",
    "print(x)\n",
    "\n",
    "if (x):\n",
    "    print(\"Yes, there is at least one match!\")\n",
    "else:\n",
    "    print(\"No match\")\n",
    "    "
   ]
  },
  {
   "cell_type": "code",
   "execution_count": 22,
   "id": "8f4aec10",
   "metadata": {},
   "outputs": [
    {
     "name": "stdout",
     "output_type": "stream",
     "text": [
      "[' ', ' ', ' ', ' ', ' ', ' ', ' ', ' ', ',', ' ', ' ', ' ', ' ', ',', ' ', ' ']\n",
      "Yes, there is at least one match!\n"
     ]
    }
   ],
   "source": [
    "### \\W\n",
    "### \\W returns match at every non-alphanumeric character. Basically opposite of \\w.\n",
    "\n",
    "str_ = \"Our solar system is made up of a star, the Sun 8 planets, 146 moons\"\n",
    "\n",
    "#returns a match at every NON word character (characters NOT between a and Z. Like \"!\", \"?\" white-space etc.):\n",
    "\n",
    "x = re.findall(\"\\W\", str)\n",
    "print(x)\n",
    "\n",
    "if (x):\n",
    "    print(\"Yes, there is at least one match!\")\n",
    "else:\n",
    "    print(\"No match\")\n",
    "    "
   ]
  },
  {
   "cell_type": "markdown",
   "id": "0789ab34",
   "metadata": {},
   "source": [
    "# Metacharacters in Regular Expression"
   ]
  },
  {
   "cell_type": "code",
   "execution_count": 23,
   "id": "7f64fcf6",
   "metadata": {},
   "outputs": [
    {
     "name": "stdout",
     "output_type": "stream",
     "text": [
      "['roh', 'roh']\n",
      "['rohan', 'rohit']\n"
     ]
    }
   ],
   "source": [
    "## (.) matches any character (except newline character)\n",
    "\n",
    "str_ = \"rohan and rohit recently published a research paper!\"\n",
    "\n",
    "#Search for a string that starts with \"ro\", followed by any number of characters\n",
    "\n",
    "x = re.findall(\"ro.\", str_)           #searches one character after ro\n",
    "x2 = re.findall(\"ro...\", str_)        #searches three characters after ro\n",
    "\n",
    "print(x)\n",
    "print(x2)"
   ]
  },
  {
   "cell_type": "code",
   "execution_count": 24,
   "id": "5fbb3ddf",
   "metadata": {},
   "outputs": [
    {
     "name": "stdout",
     "output_type": "stream",
     "text": [
      "Yes, the string starts with 'Data'\n"
     ]
    }
   ],
   "source": [
    "### (^) starts with\n",
    "### It checks whether the string starts with the given pattern or not.\n",
    "\n",
    "str_ = \"Data Science\"\n",
    "\n",
    "#Check if the string starts with 'Data':\n",
    "\n",
    "x = re.findall(\"^Data\", str_)\n",
    "\n",
    "if (x):\n",
    "    print(\"Yes, the string starts with 'Data'\")\n",
    "else:\n",
    "    print(\"No match\")"
   ]
  },
  {
   "cell_type": "code",
   "execution_count": 25,
   "id": "32f13982",
   "metadata": {},
   "outputs": [
    {
     "name": "stdout",
     "output_type": "stream",
     "text": [
      "No match\n"
     ]
    }
   ],
   "source": [
    "# try with a different string\n",
    "\n",
    "str2 = \"Big Data\"\n",
    "\n",
    "#Check if the string starts with 'Data':\n",
    "\n",
    "x2 = re.findall(\"^Data\", str2)\n",
    "\n",
    "if (x2):\n",
    "    print(\"Yes, the string starts with 'data'\")\n",
    "else:\n",
    "    print(\"No match\")\n",
    "    "
   ]
  },
  {
   "cell_type": "code",
   "execution_count": 26,
   "id": "eb96e467",
   "metadata": {},
   "outputs": [
    {
     "name": "stdout",
     "output_type": "stream",
     "text": [
      "Yes, the string ends with 'Science'\n"
     ]
    }
   ],
   "source": [
    "### ($) ends with\n",
    "### It checks whether the string ends with the given pattern or not.\n",
    "\n",
    "str_ = \"Data Science\"\n",
    "\n",
    "#Check if the string ends with 'Science':\n",
    "\n",
    "x = re.findall(\"Science$\", str_)\n",
    "\n",
    "if (x):\n",
    "    print(\"Yes, the string ends with 'Science'\")\n",
    "else:\n",
    "    print(\"No match\")"
   ]
  },
  {
   "cell_type": "code",
   "execution_count": 27,
   "id": "653a5717",
   "metadata": {},
   "outputs": [
    {
     "name": "stdout",
     "output_type": "stream",
     "text": [
      "['easy', 'easssy', 'eay']\n",
      "Yes, there is at least one match!\n"
     ]
    }
   ],
   "source": [
    "### (*) matches for zero or more occurrences of the pattern to the left of it\n",
    "str_ = \"easy easssy eay ey\"\n",
    "\n",
    "#Check if the string contains \"ea\" followed by 0 or more \"s\" characters and ending with y\n",
    "\n",
    "x = re.findall(\"eas*y\", str_)\n",
    "print(x)\n",
    "\n",
    "if (x):\n",
    "    print(\"Yes, there is at least one match!\")\n",
    "else:\n",
    "    print(\"No match\")"
   ]
  },
  {
   "cell_type": "code",
   "execution_count": 29,
   "id": "11c2f51b",
   "metadata": {},
   "outputs": [
    {
     "name": "stdout",
     "output_type": "stream",
     "text": [
      "['easy', 'easssy']\n",
      "Yes, there is at least one match!\n"
     ]
    }
   ],
   "source": [
    "### (+) matches one or more occurrences of the pattern to the left of it\n",
    "### Check if the string contains \"ea\" followed by 1 or more \"s\" characters and ends with y\n",
    "\n",
    "x = re.findall(\"eas+y\", str_)\n",
    "print(x)\n",
    "\n",
    "if (x):\n",
    "    print(\"Yes, there is at least one match!\")\n",
    "else:\n",
    "    print(\"No match\")"
   ]
  },
  {
   "cell_type": "code",
   "execution_count": 30,
   "id": "40032ed4",
   "metadata": {},
   "outputs": [
    {
     "name": "stdout",
     "output_type": "stream",
     "text": [
      "['easy', 'eay']\n",
      "Yes, there is at least one match!\n"
     ]
    }
   ],
   "source": [
    "### (?) matches zero or one occurrence of the pattern left to it.\n",
    "x = re.findall(\"eas?y\",str_)\n",
    "print(x)\n",
    "\n",
    "if (x):\n",
    "    print(\"Yes, there is at least one match!\")\n",
    "else:\n",
    "    print(\"No match\")"
   ]
  },
  {
   "cell_type": "code",
   "execution_count": 32,
   "id": "2dc09f5a",
   "metadata": {},
   "outputs": [
    {
     "name": "stdout",
     "output_type": "stream",
     "text": [
      "['star', 'moon']\n",
      "Yes, there is at least one match!\n"
     ]
    }
   ],
   "source": [
    "### (|) either or\n",
    "str_ = \"Our solar system is made up of a star, the Sun 8 planets, 146 moons\"\n",
    "\n",
    "#Check if the string contains either \"data\" or \"India\":\n",
    "\n",
    "x = re.findall(\"star|moon\", str_)\n",
    "print(x)\n",
    "\n",
    "if (x):\n",
    "    print(\"Yes, there is at least one match!\")\n",
    "else:\n",
    "    print(\"No match\")"
   ]
  },
  {
   "cell_type": "code",
   "execution_count": 33,
   "id": "65fd4017",
   "metadata": {},
   "outputs": [
    {
     "name": "stdout",
     "output_type": "stream",
     "text": [
      "['star']\n",
      "Yes, there is at least one match!\n"
     ]
    }
   ],
   "source": [
    "# try with a different string\n",
    "\n",
    "str_ = \"Our solar system is made up of a millions of star\"\n",
    "\n",
    "#Check if the string contains either \"data\" or \"India\":\n",
    "\n",
    "x = re.findall(\"star|moon\", str_)\n",
    "print(x)\n",
    "\n",
    "if (x):\n",
    "    print(\"Yes, there is at least one match!\")\n",
    "else:\n",
    "    print(\"No match\")"
   ]
  },
  {
   "cell_type": "markdown",
   "id": "78b74a2c",
   "metadata": {},
   "source": [
    "> End of Program"
   ]
  },
  {
   "cell_type": "markdown",
   "id": "07abe761",
   "metadata": {},
   "source": [
    "____"
   ]
  }
 ],
 "metadata": {
  "kernelspec": {
   "display_name": "Python 3 (ipykernel)",
   "language": "python",
   "name": "python3"
  },
  "language_info": {
   "codemirror_mode": {
    "name": "ipython",
    "version": 3
   },
   "file_extension": ".py",
   "mimetype": "text/x-python",
   "name": "python",
   "nbconvert_exporter": "python",
   "pygments_lexer": "ipython3",
   "version": "3.9.7"
  }
 },
 "nbformat": 4,
 "nbformat_minor": 5
}
